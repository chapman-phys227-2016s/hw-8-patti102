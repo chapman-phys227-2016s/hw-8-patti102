{
 "cells": [
  {
   "cell_type": "markdown",
   "metadata": {
    "collapsed": false
   },
   "source": [
    "# Homework 8\n",
    "\n",
    "### Taylor Patti\n",
    "### 4/29/16"
   ]
  },
  {
   "cell_type": "markdown",
   "metadata": {},
   "source": [
    "### Particle and Particles Updated\n",
    "\n",
    "This update on the Particle class allowed for the visualization of particles trapped in a 2 by 2 box with a hole between x = -2 and x = -1. Tests were ran to ensure that the particle could not escape the box through its typical walls and also to ensure that the particle was indeed free to attain positions outside of the box if it went through the hole as we have here defined it. A series of images were then created of 20 particles moving in the box and these were put together into a video gif which is shown here."
   ]
  },
  {
   "cell_type": "markdown",
   "metadata": {
    "collapsed": false
   },
   "source": [
    "![alt text](walk.gif)"
   ]
  },
  {
   "cell_type": "code",
   "execution_count": null,
   "metadata": {
    "collapsed": true
   },
   "outputs": [],
   "source": []
  }
 ],
 "metadata": {
  "kernelspec": {
   "display_name": "Python 2 (SageMath)",
   "language": "python",
   "name": "python2"
  },
  "language_info": {
   "codemirror_mode": {
    "name": "ipython",
    "version": 2
   },
   "file_extension": ".py",
   "mimetype": "text/x-python",
   "name": "python",
   "nbconvert_exporter": "python",
   "pygments_lexer": "ipython2",
   "version": "2.7.10"
  }
 },
 "nbformat": 4,
 "nbformat_minor": 0
}
